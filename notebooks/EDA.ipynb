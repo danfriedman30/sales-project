{
 "cells": [
  {
   "cell_type": "markdown",
   "metadata": {},
   "source": [
    "# Notebook for sales dashboard"
   ]
  },
  {
   "cell_type": "markdown",
   "metadata": {},
   "source": [
    "### Data import and pre-processing"
   ]
  },
  {
   "cell_type": "code",
   "execution_count": null,
   "metadata": {},
   "outputs": [],
   "source": [
    "# Importing packages\n",
    "import pandas as pd\n",
    "import streamlit as st \n",
    "import plotly_express as px\n"
   ]
  },
  {
   "cell_type": "code",
   "execution_count": null,
   "metadata": {},
   "outputs": [],
   "source": [
    "# Reading the CSV and understanding the basic structure\n",
    "file_path = '/Users/danfriedman/Dropbox/TripleTen Data Science/Projects/sales-project/2023_sales_data.csv'\n",
    "df = pd.read_csv(file_path)\n",
    "\n",
    "df.head(10)"
   ]
  },
  {
   "cell_type": "code",
   "execution_count": null,
   "metadata": {},
   "outputs": [],
   "source": [
    "df.info()"
   ]
  },
  {
   "cell_type": "code",
   "execution_count": null,
   "metadata": {},
   "outputs": [],
   "source": [
    "# convert dates to datetime\n",
    "df['Date'] = pd.to_datetime(df['Date'], format='%Y-%m-%d')\n",
    "df.info()"
   ]
  },
  {
   "cell_type": "code",
   "execution_count": null,
   "metadata": {},
   "outputs": [],
   "source": [
    "df.describe()"
   ]
  },
  {
   "cell_type": "markdown",
   "metadata": {},
   "source": [
    "From the max of the Date column, some records have 2024 as the year. This was an error in generating the file, so I want to remove these rows from the dataframe."
   ]
  },
  {
   "cell_type": "code",
   "execution_count": null,
   "metadata": {},
   "outputs": [],
   "source": [
    "# extract month and year from datetimes\n",
    "df['Month'] = df['Date'].dt.month\n",
    "df['Year'] = df['Date'].dt.year\n",
    "df.head()"
   ]
  },
  {
   "cell_type": "code",
   "execution_count": null,
   "metadata": {},
   "outputs": [],
   "source": [
    "twenty_four_records = df[df['Year'] == 2024]\n",
    "twenty_four_records"
   ]
  },
  {
   "cell_type": "code",
   "execution_count": null,
   "metadata": {},
   "outputs": [],
   "source": [
    "# amend dataframe to remove rows with year of 2024\n",
    "df = df.drop(twenty_four_records.index)\n",
    "df.describe()"
   ]
  },
  {
   "cell_type": "markdown",
   "metadata": {},
   "source": [
    "The max date of 12-31-2023 confirms the drop method worked to remove the year 2024 rows"
   ]
  },
  {
   "cell_type": "markdown",
   "metadata": {},
   "source": [
    "### Building the streamlit web app"
   ]
  },
  {
   "cell_type": "code",
   "execution_count": null,
   "metadata": {},
   "outputs": [],
   "source": [
    "# Streamlit app title\n",
    "st.title(\"Sales Data Dashboard\")"
   ]
  },
  {
   "cell_type": "markdown",
   "metadata": {},
   "source": [
    "#### Setup Framework for Filtering"
   ]
  },
  {
   "cell_type": "markdown",
   "metadata": {},
   "source": [
    "First we need to set up a category filter"
   ]
  },
  {
   "cell_type": "code",
   "execution_count": null,
   "metadata": {},
   "outputs": [],
   "source": [
    "# Checkbox for filtering by Category\n",
    "show_category = st.checkbox(\"Filter by Category\")\n",
    "if show_category:\n",
    "    category_choice = st.selectbox(\"Select a category:\", df[\"Category\"].unique())\n",
    "    df = df[df[\"Category\"] == category_choice]"
   ]
  },
  {
   "cell_type": "markdown",
   "metadata": {},
   "source": [
    "Next set up the month and total year filter"
   ]
  },
  {
   "cell_type": "code",
   "execution_count": null,
   "metadata": {},
   "outputs": [],
   "source": [
    "# Checkbox for enabling Month/Year filter\n",
    "show_time_filter = st.checkbox(\"Filter by Month/Year\")\n",
    "if show_time_filter:\n",
    "    filter_type = st.radio(\"Select filter type:\", (\"Month\", \"Year\"))\n",
    "    if filter_type == \"Month\":\n",
    "        month_choice = st.selectbox(\"Select a month:\", sorted(df[\"Month\"].unique()))\n",
    "        df = df[df[\"Month\"] == month_choice]\n",
    "    else:\n",
    "        year_choice = st.selectbox(\"Select a year:\", sorted(df[\"Year\"].unique()))\n",
    "        df = df[df[\"Year\"] == year_choice]"
   ]
  },
  {
   "cell_type": "markdown",
   "metadata": {},
   "source": [
    "#### Build the Charts"
   ]
  },
  {
   "cell_type": "code",
   "execution_count": null,
   "metadata": {},
   "outputs": [],
   "source": [
    "# Scatter plot: Total Sales vs Quantity\n",
    "st.subheader(\"Total Sales vs Quantity\")\n",
    "fig_scatter = px.scatter(\n",
    "    df, x=\"Quantity\", y=\"Total Sales\", color=\"Category\", \n",
    "    title=\"Scatter Plot of Total Sales vs Quantity\",\n",
    "    hover_data=[\"Month\"]  # Include Month in hover tooltip\n",
    ")\n",
    "st.plotly_chart(fig_scatter)"
   ]
  },
  {
   "cell_type": "markdown",
   "metadata": {},
   "source": [
    "This is the sales vs quantity scatter plot - comparing revenue of a category (if selected) vs the quantity sold"
   ]
  },
  {
   "cell_type": "code",
   "execution_count": null,
   "metadata": {},
   "outputs": [],
   "source": [
    "# Histogram: Distribution of Total Sales\n",
    "st.subheader(\"Distribution of Total Sales\")\n",
    "fig_hist = px.histogram(\n",
    "    df, x=\"Total Sales\", nbins=30, \n",
    "    title=\"Histogram of Total Sales\"\n",
    ")\n",
    "st.plotly_chart(fig_hist)"
   ]
  },
  {
   "cell_type": "markdown",
   "metadata": {},
   "source": [
    "This is the histogram for the distribution of sales"
   ]
  },
  {
   "cell_type": "code",
   "execution_count": null,
   "metadata": {},
   "outputs": [],
   "source": [
    "# Bar Chart: Total Sales for Each Month by Product Category\n",
    "st.subheader(\"Product Category Sales\")\n",
    "df_grouped = df.groupby([\"Month\", \"Category\"])[\"Total Sales\"].sum().reset_index()\n",
    "fig_bar = px.bar(\n",
    "    df_grouped,\n",
    "    x=\"Month\", y=\"Total Sales\", color=\"Category\",\n",
    "    title=\"Total Sales per Month by Product Category\",\n",
    "    barmode=\"group\"\n",
    ")\n",
    "st.plotly_chart(fig_bar)"
   ]
  },
  {
   "cell_type": "markdown",
   "metadata": {},
   "source": [
    "This is the bar chart showing categories sales over the course of each month."
   ]
  },
  {
   "cell_type": "markdown",
   "metadata": {},
   "source": []
  }
 ],
 "metadata": {
  "kernelspec": {
   "display_name": "Python 3",
   "language": "python",
   "name": "python3"
  },
  "language_info": {
   "codemirror_mode": {
    "name": "ipython",
    "version": 3
   },
   "file_extension": ".py",
   "mimetype": "text/x-python",
   "name": "python",
   "nbconvert_exporter": "python",
   "pygments_lexer": "ipython3",
   "version": "3.11.4"
  }
 },
 "nbformat": 4,
 "nbformat_minor": 2
}
